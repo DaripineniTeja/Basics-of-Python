{
 "cells": [
  {
   "cell_type": "markdown",
   "id": "07eb4c82",
   "metadata": {},
   "source": [
    "# MY FIRST PROGRAM"
   ]
  },
  {
   "cell_type": "code",
   "execution_count": 32,
   "id": "b431f6ef",
   "metadata": {},
   "outputs": [
    {
     "name": "stdout",
     "output_type": "stream",
     "text": [
      "Hello world\n"
     ]
    }
   ],
   "source": [
    "print(\"Hello world\")"
   ]
  },
  {
   "cell_type": "code",
   "execution_count": 33,
   "id": "626503a0",
   "metadata": {},
   "outputs": [
    {
     "name": "stdout",
     "output_type": "stream",
     "text": [
      "Daripineni Teja\n"
     ]
    }
   ],
   "source": [
    "print(\"Daripineni Teja\")"
   ]
  },
  {
   "cell_type": "code",
   "execution_count": 34,
   "id": "5b5e6ca9",
   "metadata": {},
   "outputs": [
    {
     "ename": "NameError",
     "evalue": "name 'hello' is not defined",
     "output_type": "error",
     "traceback": [
      "\u001b[1;31m---------------------------------------------------------------------------\u001b[0m",
      "\u001b[1;31mNameError\u001b[0m                                 Traceback (most recent call last)",
      "Cell \u001b[1;32mIn[34], line 1\u001b[0m\n\u001b[1;32m----> 1\u001b[0m \u001b[38;5;28mprint\u001b[39m(hello)\n",
      "\u001b[1;31mNameError\u001b[0m: name 'hello' is not defined"
     ]
    }
   ],
   "source": [
    "print(hello)"
   ]
  },
  {
   "cell_type": "markdown",
   "id": "370c0f5f",
   "metadata": {},
   "source": [
    "**String should be in inverted comma**"
   ]
  },
  {
   "cell_type": "code",
   "execution_count": 35,
   "id": "73ac0d89",
   "metadata": {},
   "outputs": [
    {
     "name": "stdout",
     "output_type": "stream",
     "text": [
      "1\n"
     ]
    }
   ],
   "source": [
    "print(1)"
   ]
  },
  {
   "cell_type": "markdown",
   "id": "b20a8f2e",
   "metadata": {},
   "source": [
    "### Variables"
   ]
  },
  {
   "cell_type": "code",
   "execution_count": 37,
   "id": "3777b74e",
   "metadata": {},
   "outputs": [],
   "source": [
    "name = (\"Daripineni Teja\")\n",
    "age = (20)\n",
    "Salary = (20000)"
   ]
  },
  {
   "cell_type": "code",
   "execution_count": 39,
   "id": "c5465331",
   "metadata": {},
   "outputs": [
    {
     "name": "stdout",
     "output_type": "stream",
     "text": [
      "Daripineni Teja\n",
      "20\n",
      "20000\n"
     ]
    }
   ],
   "source": [
    "print(name)\n",
    "print(age)\n",
    "print(Salary)"
   ]
  },
  {
   "cell_type": "code",
   "execution_count": 41,
   "id": "4f6b062b",
   "metadata": {},
   "outputs": [],
   "source": [
    "namelist  = \"Daripineni\",\"Teja\""
   ]
  },
  {
   "cell_type": "code",
   "execution_count": 42,
   "id": "bd2b86df",
   "metadata": {},
   "outputs": [
    {
     "data": {
      "text/plain": [
       "('Daripineni', 'Teja')"
      ]
     },
     "execution_count": 42,
     "metadata": {},
     "output_type": "execute_result"
    }
   ],
   "source": [
    "namelist"
   ]
  },
  {
   "cell_type": "code",
   "execution_count": null,
   "id": "7f7e4767",
   "metadata": {},
   "outputs": [],
   "source": [
    "name list = \"Daripineni\",\"Teja"
   ]
  },
  {
   "cell_type": "markdown",
   "id": "2cec860a",
   "metadata": {},
   "source": [
    "name list"
   ]
  },
  {
   "cell_type": "markdown",
   "id": "f5f9097d",
   "metadata": {},
   "source": [
    "**Space not allowed in Variables**"
   ]
  },
  {
   "cell_type": "code",
   "execution_count": 44,
   "id": "c563104e",
   "metadata": {},
   "outputs": [
    {
     "ename": "SyntaxError",
     "evalue": "invalid decimal literal (2662206643.py, line 1)",
     "output_type": "error",
     "traceback": [
      "\u001b[1;36m  Cell \u001b[1;32mIn[44], line 1\u001b[1;36m\u001b[0m\n\u001b[1;33m    2namelist = \"Daripineni\",\"Teja\"\u001b[0m\n\u001b[1;37m    ^\u001b[0m\n\u001b[1;31mSyntaxError\u001b[0m\u001b[1;31m:\u001b[0m invalid decimal literal\n"
     ]
    }
   ],
   "source": [
    "2namelist = \"Daripineni\",\"Teja\"\n",
    "2namelist"
   ]
  },
  {
   "cell_type": "markdown",
   "id": "1ae63607",
   "metadata": {},
   "source": [
    "**Variable name should not start with number**"
   ]
  },
  {
   "cell_type": "code",
   "execution_count": 45,
   "id": "625a9384",
   "metadata": {},
   "outputs": [],
   "source": [
    "name_list = \"Daripineni\",\"Teja\""
   ]
  },
  {
   "cell_type": "code",
   "execution_count": 46,
   "id": "41715eeb",
   "metadata": {},
   "outputs": [
    {
     "data": {
      "text/plain": [
       "('Daripineni', 'Teja')"
      ]
     },
     "execution_count": 46,
     "metadata": {},
     "output_type": "execute_result"
    }
   ],
   "source": [
    "name_list"
   ]
  },
  {
   "cell_type": "code",
   "execution_count": 47,
   "id": "8f456faa",
   "metadata": {},
   "outputs": [
    {
     "ename": "SyntaxError",
     "evalue": "cannot assign to expression here. Maybe you meant '==' instead of '='? (1628366224.py, line 1)",
     "output_type": "error",
     "traceback": [
      "\u001b[1;36m  Cell \u001b[1;32mIn[47], line 1\u001b[1;36m\u001b[0m\n\u001b[1;33m    name+list = \"Daripineni\",\"Teja\"\u001b[0m\n\u001b[1;37m    ^\u001b[0m\n\u001b[1;31mSyntaxError\u001b[0m\u001b[1;31m:\u001b[0m cannot assign to expression here. Maybe you meant '==' instead of '='?\n"
     ]
    }
   ],
   "source": [
    "name+list = \"Daripineni\",\"Teja\""
   ]
  },
  {
   "cell_type": "code",
   "execution_count": 48,
   "id": "dfc9e957",
   "metadata": {},
   "outputs": [
    {
     "ename": "TypeError",
     "evalue": "can only concatenate str (not \"type\") to str",
     "output_type": "error",
     "traceback": [
      "\u001b[1;31m---------------------------------------------------------------------------\u001b[0m",
      "\u001b[1;31mTypeError\u001b[0m                                 Traceback (most recent call last)",
      "Cell \u001b[1;32mIn[48], line 1\u001b[0m\n\u001b[1;32m----> 1\u001b[0m name\u001b[38;5;241m+\u001b[39m\u001b[38;5;28mlist\u001b[39m\n",
      "\u001b[1;31mTypeError\u001b[0m: can only concatenate str (not \"type\") to str"
     ]
    }
   ],
   "source": [
    "name+list"
   ]
  },
  {
   "cell_type": "markdown",
   "id": "35b8ee43",
   "metadata": {},
   "source": [
    "**Variable name should start with (A-Z) and (a-z)**\n",
    "\n",
    "**Only Underscore(_)Special Charcater allowed in between the variable name**"
   ]
  },
  {
   "cell_type": "markdown",
   "id": "dba3a0c9",
   "metadata": {},
   "source": [
    "# DATA TYPES"
   ]
  },
  {
   "cell_type": "code",
   "execution_count": 49,
   "id": "3d84589b",
   "metadata": {},
   "outputs": [
    {
     "data": {
      "text/plain": [
       "str"
      ]
     },
     "execution_count": 49,
     "metadata": {},
     "output_type": "execute_result"
    }
   ],
   "source": [
    "type(\"ai\")"
   ]
  },
  {
   "cell_type": "code",
   "execution_count": 51,
   "id": "1a4760ef",
   "metadata": {},
   "outputs": [
    {
     "data": {
      "text/plain": [
       "str"
      ]
     },
     "execution_count": 51,
     "metadata": {},
     "output_type": "execute_result"
    }
   ],
   "source": [
    "name = \"Daripineni\"\n",
    "type(name)"
   ]
  },
  {
   "cell_type": "code",
   "execution_count": 52,
   "id": "fce8dcde",
   "metadata": {},
   "outputs": [
    {
     "data": {
      "text/plain": [
       "int"
      ]
     },
     "execution_count": 52,
     "metadata": {},
     "output_type": "execute_result"
    }
   ],
   "source": [
    "x = 100\n",
    "type(x)"
   ]
  },
  {
   "cell_type": "code",
   "execution_count": 53,
   "id": "87a97eb4",
   "metadata": {},
   "outputs": [
    {
     "data": {
      "text/plain": [
       "float"
      ]
     },
     "execution_count": 53,
     "metadata": {},
     "output_type": "execute_result"
    }
   ],
   "source": [
    "y = 100.9\n",
    "type(y)"
   ]
  },
  {
   "cell_type": "code",
   "execution_count": 54,
   "id": "d410f17f",
   "metadata": {},
   "outputs": [
    {
     "data": {
      "text/plain": [
       "bool"
      ]
     },
     "execution_count": 54,
     "metadata": {},
     "output_type": "execute_result"
    }
   ],
   "source": [
    "a = True\n",
    "type(a)"
   ]
  },
  {
   "cell_type": "code",
   "execution_count": 55,
   "id": "db1a0964",
   "metadata": {},
   "outputs": [
    {
     "data": {
      "text/plain": [
       "bool"
      ]
     },
     "execution_count": 55,
     "metadata": {},
     "output_type": "execute_result"
    }
   ],
   "source": [
    "b = False\n",
    "type(b)"
   ]
  },
  {
   "cell_type": "code",
   "execution_count": 56,
   "id": "9f6d36dc",
   "metadata": {},
   "outputs": [
    {
     "ename": "NameError",
     "evalue": "name 'true' is not defined",
     "output_type": "error",
     "traceback": [
      "\u001b[1;31m---------------------------------------------------------------------------\u001b[0m",
      "\u001b[1;31mNameError\u001b[0m                                 Traceback (most recent call last)",
      "Cell \u001b[1;32mIn[56], line 1\u001b[0m\n\u001b[1;32m----> 1\u001b[0m a \u001b[38;5;241m=\u001b[39m true\n",
      "\u001b[1;31mNameError\u001b[0m: name 'true' is not defined"
     ]
    }
   ],
   "source": [
    "a = true"
   ]
  },
  {
   "cell_type": "markdown",
   "id": "ef629f18",
   "metadata": {},
   "source": [
    "**Python is Case sensitive**"
   ]
  },
  {
   "cell_type": "code",
   "execution_count": 57,
   "id": "797c3ecb",
   "metadata": {},
   "outputs": [
    {
     "data": {
      "text/plain": [
       "str"
      ]
     },
     "execution_count": 57,
     "metadata": {},
     "output_type": "execute_result"
    }
   ],
   "source": [
    "z = \"True\"\n",
    "type(z)"
   ]
  },
  {
   "cell_type": "code",
   "execution_count": 58,
   "id": "18d12ab5",
   "metadata": {},
   "outputs": [
    {
     "data": {
      "text/plain": [
       "str"
      ]
     },
     "execution_count": 58,
     "metadata": {},
     "output_type": "execute_result"
    }
   ],
   "source": [
    "z = \"False\"\n",
    "type(z)"
   ]
  },
  {
   "cell_type": "markdown",
   "id": "0a4dc298",
   "metadata": {},
   "source": [
    "# LISTS"
   ]
  },
  {
   "cell_type": "code",
   "execution_count": 61,
   "id": "8d246ef0",
   "metadata": {},
   "outputs": [],
   "source": [
    "sample_list=[0,1,2,3,4,5,\"HI\",6,7,8,9,10]"
   ]
  },
  {
   "cell_type": "code",
   "execution_count": 62,
   "id": "cbdd319d",
   "metadata": {},
   "outputs": [
    {
     "name": "stdout",
     "output_type": "stream",
     "text": [
      "[0, 1, 2, 3, 4, 5, 'HI', 6, 7, 8, 9, 10]\n"
     ]
    }
   ],
   "source": [
    "print(sample_list)"
   ]
  },
  {
   "cell_type": "code",
   "execution_count": 63,
   "id": "d6bce417",
   "metadata": {},
   "outputs": [
    {
     "data": {
      "text/plain": [
       "list"
      ]
     },
     "execution_count": 63,
     "metadata": {},
     "output_type": "execute_result"
    }
   ],
   "source": [
    "type(sample_list)"
   ]
  },
  {
   "cell_type": "code",
   "execution_count": 64,
   "id": "acc16b99",
   "metadata": {},
   "outputs": [
    {
     "data": {
      "text/plain": [
       "4"
      ]
     },
     "execution_count": 64,
     "metadata": {},
     "output_type": "execute_result"
    }
   ],
   "source": [
    "sample_list[4]"
   ]
  },
  {
   "cell_type": "code",
   "execution_count": 65,
   "id": "ba30a4d8",
   "metadata": {},
   "outputs": [
    {
     "data": {
      "text/plain": [
       "8"
      ]
     },
     "execution_count": 65,
     "metadata": {},
     "output_type": "execute_result"
    }
   ],
   "source": [
    "sample_list[9]"
   ]
  },
  {
   "cell_type": "code",
   "execution_count": 66,
   "id": "bdf5bb47",
   "metadata": {},
   "outputs": [
    {
     "data": {
      "text/plain": [
       "10"
      ]
     },
     "execution_count": 66,
     "metadata": {},
     "output_type": "execute_result"
    }
   ],
   "source": [
    "sample_list[-1]"
   ]
  },
  {
   "cell_type": "code",
   "execution_count": 68,
   "id": "8652c1cc",
   "metadata": {},
   "outputs": [
    {
     "name": "stdout",
     "output_type": "stream",
     "text": [
      "[100, 1, 2, 3, 4, 5, 'HI', 6, 7, 8, 9, 10]\n"
     ]
    }
   ],
   "source": [
    "sample_list[0]=100\n",
    "print(sample_list)"
   ]
  },
  {
   "cell_type": "markdown",
   "id": "4cdace5e",
   "metadata": {},
   "source": [
    "**List enclosed with []**\n",
    "\n",
    "**List is Mutable**\n",
    "\n"
   ]
  },
  {
   "cell_type": "markdown",
   "id": "919552cf",
   "metadata": {},
   "source": [
    "\n",
    "# TUPLE"
   ]
  },
  {
   "cell_type": "code",
   "execution_count": 71,
   "id": "f33dca4e",
   "metadata": {},
   "outputs": [],
   "source": [
    "sample_tuple=(0,1,2,3,4,5,\"HI\",6,7,8,9,10)"
   ]
  },
  {
   "cell_type": "code",
   "execution_count": 72,
   "id": "9d80c284",
   "metadata": {},
   "outputs": [
    {
     "name": "stdout",
     "output_type": "stream",
     "text": [
      "(0, 1, 2, 3, 4, 5, 'HI', 6, 7, 8, 9, 10)\n"
     ]
    }
   ],
   "source": [
    "print(sample_tuple)"
   ]
  },
  {
   "cell_type": "code",
   "execution_count": 73,
   "id": "e3531c85",
   "metadata": {},
   "outputs": [
    {
     "data": {
      "text/plain": [
       "tuple"
      ]
     },
     "execution_count": 73,
     "metadata": {},
     "output_type": "execute_result"
    }
   ],
   "source": [
    "type(sample_tuple)"
   ]
  },
  {
   "cell_type": "code",
   "execution_count": 74,
   "id": "367b184e",
   "metadata": {},
   "outputs": [
    {
     "ename": "TypeError",
     "evalue": "'tuple' object is not callable",
     "output_type": "error",
     "traceback": [
      "\u001b[1;31m---------------------------------------------------------------------------\u001b[0m",
      "\u001b[1;31mTypeError\u001b[0m                                 Traceback (most recent call last)",
      "Cell \u001b[1;32mIn[74], line 1\u001b[0m\n\u001b[1;32m----> 1\u001b[0m sample_tuple(\u001b[38;5;241m4\u001b[39m)\n",
      "\u001b[1;31mTypeError\u001b[0m: 'tuple' object is not callable"
     ]
    }
   ],
   "source": [
    "sample_tuple(4)"
   ]
  },
  {
   "cell_type": "code",
   "execution_count": 75,
   "id": "aed460bd",
   "metadata": {},
   "outputs": [
    {
     "ename": "TypeError",
     "evalue": "'tuple' object does not support item assignment",
     "output_type": "error",
     "traceback": [
      "\u001b[1;31m---------------------------------------------------------------------------\u001b[0m",
      "\u001b[1;31mTypeError\u001b[0m                                 Traceback (most recent call last)",
      "Cell \u001b[1;32mIn[75], line 1\u001b[0m\n\u001b[1;32m----> 1\u001b[0m sample_tuple[\u001b[38;5;241m4\u001b[39m] \u001b[38;5;241m=\u001b[39m \u001b[38;5;241m8\u001b[39m\n",
      "\u001b[1;31mTypeError\u001b[0m: 'tuple' object does not support item assignment"
     ]
    }
   ],
   "source": [
    "sample_tuple[4] = 8"
   ]
  },
  {
   "cell_type": "markdown",
   "id": "884c3bd4",
   "metadata": {},
   "source": [
    "**Tuple starts with ()brackets**\n",
    "\n",
    "**Tuple is Mutable**"
   ]
  },
  {
   "cell_type": "markdown",
   "id": "b9bc6c2c",
   "metadata": {},
   "source": [
    "#**SETS**"
   ]
  },
  {
   "cell_type": "code",
   "execution_count": 1,
   "id": "c2d363aa",
   "metadata": {},
   "outputs": [],
   "source": [
    "sample_set = {-1,1,2,3,4,5,1,13.4,9,6,8,35,65,12,\"Teja\",\"Aravind\"}"
   ]
  },
  {
   "cell_type": "code",
   "execution_count": 2,
   "id": "cdca75b7",
   "metadata": {},
   "outputs": [
    {
     "data": {
      "text/plain": [
       "{-1, 1, 12, 13.4, 2, 3, 35, 4, 5, 6, 65, 8, 9, 'Aravind', 'Teja'}"
      ]
     },
     "execution_count": 2,
     "metadata": {},
     "output_type": "execute_result"
    }
   ],
   "source": [
    "sample_set"
   ]
  },
  {
   "cell_type": "code",
   "execution_count": 3,
   "id": "e37ee4cc",
   "metadata": {},
   "outputs": [
    {
     "ename": "TypeError",
     "evalue": "'set' object does not support item assignment",
     "output_type": "error",
     "traceback": [
      "\u001b[1;31m---------------------------------------------------------------------------\u001b[0m",
      "\u001b[1;31mTypeError\u001b[0m                                 Traceback (most recent call last)",
      "Cell \u001b[1;32mIn[3], line 1\u001b[0m\n\u001b[1;32m----> 1\u001b[0m sample_set[\u001b[38;5;241m0\u001b[39m] \u001b[38;5;241m=\u001b[39m \u001b[38;5;241m1\u001b[39m\n",
      "\u001b[1;31mTypeError\u001b[0m: 'set' object does not support item assignment"
     ]
    }
   ],
   "source": [
    "sample_set[0] = 1"
   ]
  },
  {
   "cell_type": "code",
   "execution_count": 4,
   "id": "0d328bf3",
   "metadata": {},
   "outputs": [
    {
     "ename": "TypeError",
     "evalue": "'set' object is not subscriptable",
     "output_type": "error",
     "traceback": [
      "\u001b[1;31m---------------------------------------------------------------------------\u001b[0m",
      "\u001b[1;31mTypeError\u001b[0m                                 Traceback (most recent call last)",
      "Cell \u001b[1;32mIn[4], line 1\u001b[0m\n\u001b[1;32m----> 1\u001b[0m sample_set[\u001b[38;5;241m0\u001b[39m]\n",
      "\u001b[1;31mTypeError\u001b[0m: 'set' object is not subscriptable"
     ]
    }
   ],
   "source": [
    "sample_set[0]"
   ]
  },
  {
   "cell_type": "code",
   "execution_count": 5,
   "id": "813ef211",
   "metadata": {},
   "outputs": [],
   "source": [
    "sample_set.add(100)"
   ]
  },
  {
   "cell_type": "code",
   "execution_count": 6,
   "id": "c2921178",
   "metadata": {},
   "outputs": [
    {
     "data": {
      "text/plain": [
       "{-1, 1, 100, 12, 13.4, 2, 3, 35, 4, 5, 6, 65, 8, 9, 'Aravind', 'Teja'}"
      ]
     },
     "execution_count": 6,
     "metadata": {},
     "output_type": "execute_result"
    }
   ],
   "source": [
    "sample_set"
   ]
  },
  {
   "cell_type": "code",
   "execution_count": 7,
   "id": "bf682df4",
   "metadata": {},
   "outputs": [],
   "source": [
    "sample_set.remove(-1)"
   ]
  },
  {
   "cell_type": "code",
   "execution_count": 8,
   "id": "2fd323ad",
   "metadata": {},
   "outputs": [
    {
     "data": {
      "text/plain": [
       "{1, 100, 12, 13.4, 2, 3, 35, 4, 5, 6, 65, 8, 9, 'Aravind', 'Teja'}"
      ]
     },
     "execution_count": 8,
     "metadata": {},
     "output_type": "execute_result"
    }
   ],
   "source": [
    "sample_set"
   ]
  },
  {
   "cell_type": "code",
   "execution_count": 9,
   "id": "1c82c342",
   "metadata": {},
   "outputs": [],
   "source": [
    "sample_set.add(200)"
   ]
  },
  {
   "cell_type": "code",
   "execution_count": 10,
   "id": "998644ab",
   "metadata": {},
   "outputs": [
    {
     "data": {
      "text/plain": [
       "{1, 100, 12, 13.4, 2, 200, 3, 35, 4, 5, 6, 65, 8, 9, 'Aravind', 'Teja'}"
      ]
     },
     "execution_count": 10,
     "metadata": {},
     "output_type": "execute_result"
    }
   ],
   "source": [
    "sample_set"
   ]
  },
  {
   "cell_type": "markdown",
   "id": "c65cf545",
   "metadata": {},
   "source": [
    "**Set does not allow duplicates** \n",
    "\n",
    "**we cannot retrive the set using index**\n",
    "\n",
    "**Set is Mutable**\n",
    "\n",
    "**Set has {}**\n",
    "\n",
    "**Ordered-First place**"
   ]
  },
  {
   "cell_type": "code",
   "execution_count": null,
   "id": "4b5c992b",
   "metadata": {},
   "outputs": [],
   "source": []
  },
  {
   "cell_type": "markdown",
   "id": "8b28c411",
   "metadata": {},
   "source": [
    "**DICTONARIES**"
   ]
  },
  {
   "cell_type": "code",
   "execution_count": 12,
   "id": "9b7f4dea",
   "metadata": {},
   "outputs": [],
   "source": [
    "dict_1={'name':\"arun\",\"hobbies\":[\"painting\",\"Singing\",\"Cooking\"],1:23}"
   ]
  },
  {
   "cell_type": "code",
   "execution_count": 13,
   "id": "44854dd2",
   "metadata": {},
   "outputs": [
    {
     "data": {
      "text/plain": [
       "{'name': 'arun', 'hobbies': ['painting', 'Singing', 'Cooking'], 1: 23}"
      ]
     },
     "execution_count": 13,
     "metadata": {},
     "output_type": "execute_result"
    }
   ],
   "source": [
    "dict_1"
   ]
  },
  {
   "cell_type": "code",
   "execution_count": 14,
   "id": "61be478b",
   "metadata": {},
   "outputs": [
    {
     "ename": "NameError",
     "evalue": "name 'keys' is not defined",
     "output_type": "error",
     "traceback": [
      "\u001b[1;31m---------------------------------------------------------------------------\u001b[0m",
      "\u001b[1;31mNameError\u001b[0m                                 Traceback (most recent call last)",
      "Cell \u001b[1;32mIn[14], line 1\u001b[0m\n\u001b[1;32m----> 1\u001b[0m dict_1[keys]\n",
      "\u001b[1;31mNameError\u001b[0m: name 'keys' is not defined"
     ]
    }
   ],
   "source": [
    "dict_1[keys]"
   ]
  },
  {
   "cell_type": "code",
   "execution_count": 15,
   "id": "d7426d99",
   "metadata": {},
   "outputs": [
    {
     "data": {
      "text/plain": [
       "dict_keys(['name', 'hobbies', 1])"
      ]
     },
     "execution_count": 15,
     "metadata": {},
     "output_type": "execute_result"
    }
   ],
   "source": [
    "dict_1.keys()"
   ]
  },
  {
   "cell_type": "code",
   "execution_count": 16,
   "id": "35857858",
   "metadata": {},
   "outputs": [
    {
     "data": {
      "text/plain": [
       "dict_values(['arun', ['painting', 'Singing', 'Cooking'], 23])"
      ]
     },
     "execution_count": 16,
     "metadata": {},
     "output_type": "execute_result"
    }
   ],
   "source": [
    "dict_1.values()"
   ]
  },
  {
   "cell_type": "code",
   "execution_count": 18,
   "id": "1621f5a8",
   "metadata": {},
   "outputs": [],
   "source": [
    "dict_1['name']=\"Mukund\""
   ]
  },
  {
   "cell_type": "code",
   "execution_count": 20,
   "id": "4facbded",
   "metadata": {},
   "outputs": [
    {
     "data": {
      "text/plain": [
       "{'name': 'Mukund', 'hobbies': ['painting', 'Singing', 'Cooking'], 1: 23}"
      ]
     },
     "execution_count": 20,
     "metadata": {},
     "output_type": "execute_result"
    }
   ],
   "source": [
    "dict_1"
   ]
  },
  {
   "cell_type": "code",
   "execution_count": 21,
   "id": "8db9894f",
   "metadata": {},
   "outputs": [],
   "source": [
    "del dict_1[\"name\"]"
   ]
  },
  {
   "cell_type": "code",
   "execution_count": 22,
   "id": "31652330",
   "metadata": {},
   "outputs": [
    {
     "data": {
      "text/plain": [
       "{'hobbies': ['painting', 'Singing', 'Cooking'], 1: 23}"
      ]
     },
     "execution_count": 22,
     "metadata": {},
     "output_type": "execute_result"
    }
   ],
   "source": [
    "dict_1"
   ]
  },
  {
   "cell_type": "code",
   "execution_count": null,
   "id": "09b7bcae",
   "metadata": {},
   "outputs": [],
   "source": [
    "dict_1.update({\"class\":ds})"
   ]
  },
  {
   "cell_type": "code",
   "execution_count": 24,
   "id": "50e1ffce",
   "metadata": {},
   "outputs": [
    {
     "data": {
      "text/plain": [
       "{'hobbies': ['painting', 'Singing', 'Cooking'], 1: 23}"
      ]
     },
     "execution_count": 24,
     "metadata": {},
     "output_type": "execute_result"
    }
   ],
   "source": [
    "dict_1"
   ]
  },
  {
   "cell_type": "code",
   "execution_count": 27,
   "id": "014a6dac",
   "metadata": {},
   "outputs": [],
   "source": [
    "dict_1.update({\"class\":\"ds\"})"
   ]
  },
  {
   "cell_type": "code",
   "execution_count": 29,
   "id": "c674cf56",
   "metadata": {},
   "outputs": [
    {
     "data": {
      "text/plain": [
       "{'hobbies': ['painting', 'Singing', 'Cooking'], 1: 23, 'class': 'ds'}"
      ]
     },
     "execution_count": 29,
     "metadata": {},
     "output_type": "execute_result"
    }
   ],
   "source": [
    "dict_1"
   ]
  },
  {
   "cell_type": "code",
   "execution_count": 30,
   "id": "c823ce27",
   "metadata": {},
   "outputs": [
    {
     "data": {
      "text/plain": [
       "3"
      ]
     },
     "execution_count": 30,
     "metadata": {},
     "output_type": "execute_result"
    }
   ],
   "source": [
    "len(dict_1)"
   ]
  },
  {
   "cell_type": "code",
   "execution_count": null,
   "id": "b7563caa",
   "metadata": {},
   "outputs": [],
   "source": []
  },
  {
   "cell_type": "code",
   "execution_count": null,
   "id": "cd658919",
   "metadata": {},
   "outputs": [],
   "source": []
  }
 ],
 "metadata": {
  "kernelspec": {
   "display_name": "Python 3 (ipykernel)",
   "language": "python",
   "name": "python3"
  },
  "language_info": {
   "codemirror_mode": {
    "name": "ipython",
    "version": 3
   },
   "file_extension": ".py",
   "mimetype": "text/x-python",
   "name": "python",
   "nbconvert_exporter": "python",
   "pygments_lexer": "ipython3",
   "version": "3.11.5"
  }
 },
 "nbformat": 4,
 "nbformat_minor": 5
}
